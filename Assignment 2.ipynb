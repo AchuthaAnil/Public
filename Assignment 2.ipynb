{
 "cells": [
  {
   "cell_type": "markdown",
   "id": "394956fc",
   "metadata": {},
   "source": [
    "# Question 1\n"
   ]
  },
  {
   "cell_type": "code",
   "execution_count": 3,
   "id": "d052399d",
   "metadata": {},
   "outputs": [
    {
     "name": "stdout",
     "output_type": "stream",
     "text": [
      "Enter a number between 1 and 10: 7\n",
      "Too high! Try again.\n",
      "Enter a number between 1 and 10: 4\n",
      "Too high! Try again.\n",
      "Enter a number between 1 and 10: 3\n",
      "Congratulations! You guessed the number correctly!\n"
     ]
    }
   ],
   "source": [
    "import random\n",
    "secretNumber = random.randint(1, 10)\n",
    "while True:\n",
    "    guess = int(input(\"Enter a number between 1 and 10: \"))\n",
    "    if guess == secretNumber:\n",
    "        print(\"Congratulations! You guessed the number correctly!\")\n",
    "        break\n",
    "    elif guess > secretNumber:\n",
    "        print(\"Too high! Try again.\")\n",
    "    else:\n",
    "        print(\"Too low! Try again.\")"
   ]
  },
  {
   "cell_type": "markdown",
   "id": "6d483939",
   "metadata": {},
   "source": [
    "# Question 2\n"
   ]
  },
  {
   "cell_type": "code",
   "execution_count": 2,
   "id": "c32bd4c9",
   "metadata": {},
   "outputs": [],
   "source": [
    "#Write a program to find and print the Factorial of this number. "
   ]
  },
  {
   "cell_type": "code",
   "execution_count": 4,
   "id": "46e2ebe1",
   "metadata": {},
   "outputs": [
    {
     "name": "stdout",
     "output_type": "stream",
     "text": [
      "Enter a positive integer: 3\n",
      "The factorial of 3 is 6\n"
     ]
    }
   ],
   "source": [
    "number = int(input(\"Enter a positive integer: \"))\n",
    "factorial = 1\n",
    "if number < 0:\n",
    "    print(\"Error: Factorial is not defined for negative numbers.\")\n",
    "elif number == 0:\n",
    "    print(\"The factorial of 0 is 1.\")\n",
    "else:\n",
    "    for i in range(1, number + 1):\n",
    "        factorial *= i\n",
    "    print(\"The factorial of\", number, \"is\", factorial)"
   ]
  },
  {
   "cell_type": "code",
   "execution_count": 5,
   "id": "4e2b195c",
   "metadata": {},
   "outputs": [
    {
     "name": "stdout",
     "output_type": "stream",
     "text": [
      "Enter a positive integer: 0\n",
      "The factorial of 0 is 1.\n"
     ]
    }
   ],
   "source": [
    "number = int(input(\"Enter a positive integer: \"))\n",
    "factorial = 1\n",
    "if number < 0:\n",
    "    print(\"Error: Factorial is not defined for negative numbers.\")\n",
    "elif number == 0:\n",
    "    print(\"The factorial of 0 is 1.\")\n",
    "else:\n",
    "    for i in range(1, number + 1):\n",
    "        factorial *= i\n",
    "    print(\"The factorial of\", number, \"is\", factorial)"
   ]
  },
  {
   "cell_type": "code",
   "execution_count": 6,
   "id": "fedca34e",
   "metadata": {},
   "outputs": [
    {
     "name": "stdout",
     "output_type": "stream",
     "text": [
      "Enter a positive integer: -1\n",
      "Error: Factorial is not defined for negative numbers.\n"
     ]
    }
   ],
   "source": [
    "number = int(input(\"Enter a positive integer: \"))\n",
    "factorial = 1\n",
    "if number < 0:\n",
    "    print(\"Error: Factorial is not defined for negative numbers.\")\n",
    "elif number == 0:\n",
    "    print(\"The factorial of 0 is 1.\")\n",
    "else:\n",
    "    for i in range(1, number + 1):\n",
    "        factorial *= i\n",
    "    print(\"The factorial of\", number, \"is\", factorial)"
   ]
  },
  {
   "cell_type": "markdown",
   "id": "a105a717",
   "metadata": {},
   "source": [
    "# Question 3"
   ]
  },
  {
   "cell_type": "code",
   "execution_count": 7,
   "id": "f184f037",
   "metadata": {},
   "outputs": [],
   "source": [
    "#profile phote size"
   ]
  },
  {
   "cell_type": "code",
   "execution_count": null,
   "id": "9afd94f9",
   "metadata": {},
   "outputs": [
    {
     "name": "stdout",
     "output_type": "stream",
     "text": [
      "Enter the minimum dimension (L) of the square: 6\n",
      "Enter the number of photos: 5\n",
      "Enter the width (W) and height (H) of the photo: 3 5\n",
      "UPLOAD ANOTHER\n",
      "Enter the width (W) and height (H) of the photo: 8 9\n",
      "CROP IT\n",
      "Enter the width (W) and height (H) of the photo: 4 4\n",
      "UPLOAD ANOTHER\n",
      "Enter the width (W) and height (H) of the photo: 7 7\n",
      "ACCEPTED\n"
     ]
    }
   ],
   "source": [
    "L = int(input(\"Enter the minimum dimension (L) of the square: \"))\n",
    "N = int(input(\"Enter the number of photos: \"))\n",
    "\n",
    "for _ in range(N):\n",
    "    W, H = map(int, input(\"Enter the width (W) and height (H) of the photo: \").split())\n",
    "    \n",
    "    if W < L or H < L:\n",
    "        print(\"UPLOAD ANOTHER\")\n",
    "    elif W == H:\n",
    "        print(\"ACCEPTED\")\n",
    "    else:\n",
    "        print(\"CROP IT\")\n",
    "    "
   ]
  },
  {
   "cell_type": "code",
   "execution_count": null,
   "id": "72e71d38",
   "metadata": {},
   "outputs": [],
   "source": []
  }
 ],
 "metadata": {
  "kernelspec": {
   "display_name": "Python 3 (ipykernel)",
   "language": "python",
   "name": "python3"
  },
  "language_info": {
   "codemirror_mode": {
    "name": "ipython",
    "version": 3
   },
   "file_extension": ".py",
   "mimetype": "text/x-python",
   "name": "python",
   "nbconvert_exporter": "python",
   "pygments_lexer": "ipython3",
   "version": "3.10.9"
  }
 },
 "nbformat": 4,
 "nbformat_minor": 5
}
