{
  "nbformat": 4,
  "nbformat_minor": 0,
  "metadata": {
    "colab": {
      "provenance": []
    },
    "kernelspec": {
      "name": "python3",
      "display_name": "Python 3"
    },
    "language_info": {
      "name": "python"
    }
  },
  "cells": [
    {
      "cell_type": "markdown",
      "source": [
        "Assignment 01"
      ],
      "metadata": {
        "id": "ZpTt0z2hVyWi"
      }
    },
    {
      "cell_type": "markdown",
      "source": [
        "Question1"
      ],
      "metadata": {
        "id": "q9XbaepNV2Jb"
      }
    },
    {
      "cell_type": "code",
      "source": [
        "#Python Program to accept the details of a student like name, roll number and mark and display it\n",
        "Name = input(\"Enter the Name: \")\n",
        "Rollnumber = input(\"Enter the Rollnumber: \")\n",
        "Mark = input(\"Enter the mark: \")"
      ],
      "metadata": {
        "colab": {
          "base_uri": "https://localhost:8080/"
        },
        "id": "5sikWWslYPnM",
        "outputId": "d76cd125-a7ef-4233-d8eb-29c85fd60c4f"
      },
      "execution_count": 6,
      "outputs": [
        {
          "name": "stdout",
          "output_type": "stream",
          "text": [
            "Enter the Name: Achu\n",
            "Enter the Rollnumber: 2\n",
            "Enter the mark: 45\n"
          ]
        }
      ]
    },
    {
      "cell_type": "markdown",
      "source": [
        "Question2"
      ],
      "metadata": {
        "id": "KWao-fJIY1d7"
      }
    },
    {
      "cell_type": "code",
      "source": [
        "#Python program to convert temperatures to and from Celsius Fahrenheit\n",
        "Fahrenheit = int(input('Enter Fahrenheit'))\n",
        "Celcius = (((Fahrenheit-32)*5)/9)\n",
        "print ('Temperature in celcius = ', Celcius)\n",
        "          "
      ],
      "metadata": {
        "colab": {
          "base_uri": "https://localhost:8080/"
        },
        "id": "c59EnMxpZUun",
        "outputId": "b8122595-7874-4d0c-fc50-f2a9608084a9"
      },
      "execution_count": 25,
      "outputs": [
        {
          "output_type": "stream",
          "name": "stdout",
          "text": [
            "Enter Fahrenheit98\n",
            "Temperature in celcius =  36.666666666666664\n"
          ]
        }
      ]
    },
    {
      "cell_type": "markdown",
      "source": [
        "Question 3"
      ],
      "metadata": {
        "id": "HV59Wrq5fy81"
      }
    },
    {
      "cell_type": "code",
      "source": [
        "#Python program to accept two numbers from the user and display its product\n",
        "a = int(input('Enter a'))\n",
        "b = int(input('Enter b'))\n",
        "p = a*b\n",
        "print (p)"
      ],
      "metadata": {
        "colab": {
          "base_uri": "https://localhost:8080/"
        },
        "id": "x6bXqPDgf0li",
        "outputId": "23bbd087-d309-4987-fa7b-72e35d286c02"
      },
      "execution_count": 28,
      "outputs": [
        {
          "output_type": "stream",
          "name": "stdout",
          "text": [
            "Enter a34\n",
            "Enter b56\n",
            "1904\n"
          ]
        }
      ]
    },
    {
      "cell_type": "markdown",
      "source": [
        "Question 4"
      ],
      "metadata": {
        "id": "Qo0HgmtIge_P"
      }
    },
    {
      "cell_type": "code",
      "source": [
        "# Python program to accept a string “Learn Python by Developing a Website” and display the string like “Learn**Python** by Developing a **Website**”\n",
        "print ('Learn',end = '**')\n",
        "print ('Python',end = '** ')\n",
        "print ('by Developing a',end = ' **')\n",
        "print ('Website', end = '**' )\n",
        "\n"
      ],
      "metadata": {
        "colab": {
          "base_uri": "https://localhost:8080/"
        },
        "id": "xZsAAwKAghYC",
        "outputId": "79b5ffbb-7c78-4ad1-a417-8a4f92c6b4d8"
      },
      "execution_count": 34,
      "outputs": [
        {
          "output_type": "stream",
          "name": "stdout",
          "text": [
            "Learn**Python** by Developing a **Website**"
          ]
        }
      ]
    },
    {
      "cell_type": "markdown",
      "source": [
        "Question 5"
      ],
      "metadata": {
        "id": "q-gJ9wVcjbel"
      }
    },
    {
      "cell_type": "code",
      "source": [
        "#Write a Python program to accept the radius of a circle and display its area\n",
        "#program to find area\n",
        "import math\n",
        "rad= int(input('Enter radius')) #read input\n",
        "Area = math.pi* rad**2  #calculate area\n",
        "print ('Area of circle =', Area)  "
      ],
      "metadata": {
        "colab": {
          "base_uri": "https://localhost:8080/"
        },
        "id": "I5wOdV9djdeN",
        "outputId": "e41b57b7-56a8-4004-f0b3-4ed3ccbfdac1"
      },
      "execution_count": 35,
      "outputs": [
        {
          "output_type": "stream",
          "name": "stdout",
          "text": [
            "Enter radius5\n",
            "Area of circle = 78.53981633974483\n"
          ]
        }
      ]
    },
    {
      "cell_type": "markdown",
      "source": [
        "Question 6"
      ],
      "metadata": {
        "id": "hw-1pqiHju31"
      }
    },
    {
      "cell_type": "code",
      "source": [
        "# Python program to insert a number to any position in a list (Get the number to be inserted and position from the user)\n",
        "ls = [1,9,8,7,4,6,7]\n",
        "ls.insert(1, int(input('Enter integer'))) \n",
        "print (ls)"
      ],
      "metadata": {
        "colab": {
          "base_uri": "https://localhost:8080/"
        },
        "id": "g1OIiaHMkyoL",
        "outputId": "bceacc5b-ed62-4ccb-e28c-ccc6a9bb7dc3"
      },
      "execution_count": 37,
      "outputs": [
        {
          "output_type": "stream",
          "name": "stdout",
          "text": [
            "Enter integer354\n",
            "[1, 354, 9, 8, 7, 4, 6, 7]\n"
          ]
        }
      ]
    },
    {
      "cell_type": "markdown",
      "source": [
        "Question 7"
      ],
      "metadata": {
        "id": "gES3fq7Gk5zW"
      }
    },
    {
      "cell_type": "code",
      "source": [
        "# program to rename a key city to a location in the following dictionary.\n",
        "sample_dict = { \"name\": \"John\", \"age\":5, \"salary\": 8000, \"city\": \"New York\"}\n",
        "sample_dict[\"location\"] = sample_dict.pop(\"city\")\n",
        "print (sample_dict)\n"
      ],
      "metadata": {
        "colab": {
          "base_uri": "https://localhost:8080/"
        },
        "id": "gAG-1Sn1lE2D",
        "outputId": "755381be-dcf1-4518-91ca-e4ff552e52ee"
      },
      "execution_count": 38,
      "outputs": [
        {
          "output_type": "stream",
          "name": "stdout",
          "text": [
            "{'name': 'John', 'age': 5, 'salary': 8000, 'location': 'New York'}\n"
          ]
        }
      ]
    },
    {
      "cell_type": "markdown",
      "source": [
        "Question 8"
      ],
      "metadata": {
        "id": "tWyEZWNIln7q"
      }
    },
    {
      "cell_type": "code",
      "source": [
        "#Python program to change Brad’s salary to 8500 in the following dictionary.\n",
        "sample_dict = {'emp1': {'name': 'John', 'salary': 7500}, 'emp2': {'name': 'Emma', 'salary': 8000}, 'emp3': {'name': 'Brad', 'salary': 500}}\n",
        "sample_dict ['emp3'] ['salary'] = 8500\n",
        "print (sample_dict)\n"
      ],
      "metadata": {
        "colab": {
          "base_uri": "https://localhost:8080/"
        },
        "id": "IWl3Z5kRlqKn",
        "outputId": "edd9e234-ea4e-426e-8f0e-936faeb4ba9a"
      },
      "execution_count": 41,
      "outputs": [
        {
          "output_type": "stream",
          "name": "stdout",
          "text": [
            "{'emp1': {'name': 'John', 'salary': 7500}, 'emp2': {'name': 'Emma', 'salary': 8000}, 'emp3': {'name': 'Brad', 'salary': 8500}}\n"
          ]
        }
      ]
    },
    {
      "cell_type": "markdown",
      "source": [
        "Question 9"
      ],
      "metadata": {
        "id": "WDD5dfV3nR0j"
      }
    },
    {
      "cell_type": "code",
      "source": [
        " # program to copy elements 43 and 54 from the following tuple into a new tuple\n",
        "tuple1 = (10, 20, 43, 54, 56, 68)\n",
        "tup2 = (tuple1[2], tuple1[3])\n",
        "print (tup2)"
      ],
      "metadata": {
        "colab": {
          "base_uri": "https://localhost:8080/"
        },
        "id": "FmxeKs4anTVj",
        "outputId": "91325cde-1a03-4f47-cd2e-787c5dda8c5e"
      },
      "execution_count": 44,
      "outputs": [
        {
          "output_type": "stream",
          "name": "stdout",
          "text": [
            "(43, 54)\n"
          ]
        }
      ]
    },
    {
      "cell_type": "markdown",
      "source": [
        "Question 10"
      ],
      "metadata": {
        "id": "Gaw8BgpRoITZ"
      }
    },
    {
      "cell_type": "code",
      "source": [
        "#Counts the number of occurrences of item 50 from a tuple\n",
        "tuple1 = (50, 10, 60, 70, 50,83,567,50,81)\n",
        "tuple1.count(50)"
      ],
      "metadata": {
        "colab": {
          "base_uri": "https://localhost:8080/"
        },
        "id": "zHB5OjBQoKb0",
        "outputId": "7e69a798-ae78-4c0b-bc40-8deacaac0f10"
      },
      "execution_count": 45,
      "outputs": [
        {
          "output_type": "execute_result",
          "data": {
            "text/plain": [
              "3"
            ]
          },
          "metadata": {},
          "execution_count": 45
        }
      ]
    }
  ]
}